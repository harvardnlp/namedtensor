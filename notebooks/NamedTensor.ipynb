{
  "cells": [
    {
      "cell_type": "markdown",
      "metadata": {
        "id": "ZskQMOXCDP9O"
      },
      "source": [
        "*Alexander Rush* - @harvardnlp"
      ]
    },
    {
      "cell_type": "markdown",
      "metadata": {
        "id": "XSVljWusuNti"
      },
      "source": [
        "<a href=\"https://colab.research.google.com/github/harvardnlp/namedtensor/blob/master/NamedTensor.ipynb\" target=\"_parent\">\n",
        "    <img src=\"https://colab.research.google.com/assets/colab-badge.svg\" alt=\"Open In Colab\"/>\n",
        "</a>"
      ]
    },
    {
      "cell_type": "markdown",
      "metadata": {
        "id": "2Rbx8_nj1bap"
      },
      "source": [
        "### (Update: July 2022)\n",
        "\n",
        "Many ideas in this post have been incorporated into the prototype [PyTorch Named Tensor Feature](https://pytorch.org/docs/stable/named_tensor.html#named-tensors-doc). The [namedtensor](https://github.com/harvardnlp/NamedTensor) library underlying this notebook is no longer maintained, and as such some of the original code in this notebook doesn't work. \n",
        "\n",
        "Where possible, the demonstrations of Named Tensors use cases have been re-written using the PyTorch feature, keeping the original code (based on the custom library) in comments for reference. Many operations demonstrated by the original library are not yet implemented by PyTorch's Named Tensors: that code remains as-is."
      ]
    },
    {
      "cell_type": "markdown",
      "metadata": {
        "id": "dnuYLZwvDYVP"
      },
      "source": [
        "<i>\n",
        "TL;DR: Despite its ubiquity in deep learning, Tensor is broken. It forces bad habits such as exposing private dimensions, broadcasting based on absolute position,  and keeping type information in documentation.  This post presents a proof-of-concept of an alternative approach, **named tensors**, with named dimensions. This change eliminates the need for indexing, dim arguments, einsum-style unpacking, and documentation-based coding. The prototype **PyTorch library** accompanying this blog post is available as [namedtensor](https://github.com/harvardnlp/NamedTensor).\n",
        "</i>"
      ]
    },
    {
      "cell_type": "markdown",
      "metadata": {
        "id": "Ae7BMj9HAUmD"
      },
      "source": [
        "* Table of Contents                                                                                                                                                                                             \n",
        "{:toc} "
      ]
    },
    {
      "cell_type": "markdown",
      "metadata": {
        "id": "2GEkZv2b7eDs"
      },
      "source": [
        "*Changelog*\n",
        "* Updated the syntax of the prototype to be a subest of xarray whereever possible. \n",
        "* Dropped the einops style string DSL notation to be more explicit. \n",
        "\n",
        "*Implementations* \n",
        "*  Jon Malmaud points out that the [xarray](http://xarray.pydata.org/en/stable/) project has very similar goals as this note with the addition of extensive Pandas and scientific computing support. \n",
        "* Tongfei Chen's [Nexus](https://github.com/ctongfei/nexus) project proposes statically type-safe tensors in Scala. \n",
        "* Stephan Hoyer and Eric Christiansen have a [labeled tensor library](https://git.ecdf.ed.ac.uk/s1886313/tensorflow/-/tree/b1d8c59e9b014b527fb2fbef9ce9afc14dbc4938/tensorflow/contrib/labeled_tensor) for Tensorflow that is the same as this approach.\n",
        "* Nishant Sinha has a [TSA library](https://towardsdatascience.com/introducing-tensor-shape-annotation-library-tsalib-963b5b13c35b) that uses type annotations to define dimension names."
      ]
    },
    {
      "cell_type": "code",
      "execution_count": 6,
      "metadata": {
        "colab": {
          "base_uri": "https://localhost:8080/"
        },
        "id": "wd9yuKJ2Hhdj",
        "outputId": "fb53886c-3525-4214-e8e9-2fb0f9dbb4cf"
      },
      "outputs": [
        {
          "output_type": "stream",
          "name": "stdout",
          "text": [
            "/content/NamedTensor/notebooks/NamedTensor\n",
            "\u001b[33m  DEPRECATION: A future pip version will change local packages to be built in-place without first copying to a temporary directory. We recommend you use --use-feature=in-tree-build to test your packages with this new behavior before it becomes the default.\n",
            "   pip 21.3 will remove support for this functionality. You can find discussion regarding this at https://github.com/pypa/pip/issues/7555.\u001b[0m\n",
            "  Building wheel for namedtensor (setup.py) ... \u001b[?25l\u001b[?25hdone\n",
            "/content/NamedTensor/notebooks/NamedTensor/notebooks\n",
            "/content/NamedTensor/notebooks/NamedTensor/notebooks\n"
          ]
        }
      ],
      "source": [
        "# @title Setup for Colab\n",
        "!rm -fr NamedTensor/; git clone -q https://github.com/harvardnlp/NamedTensor.git\n",
        "%cd NamedTensor\n",
        "!pip install -q .; pip install -q torch numpy opt_einsum\n",
        "%cd notebooks\n",
        "!pwd"
      ]
    },
    {
      "cell_type": "code",
      "execution_count": 52,
      "metadata": {
        "id": "7b48OTgB7gso"
      },
      "outputs": [],
      "source": [
        "import numpy \n",
        "import torch\n",
        "from namedtensor import NamedTensor, ntorch\n",
        "from namedtensor import _im_init\n",
        "_im_init()\n",
        "\n",
        "import warnings\n",
        "warnings.filterwarnings('ignore')"
      ]
    },
    {
      "cell_type": "code",
      "execution_count": 53,
      "metadata": {
        "id": "wdAHtiai1bat"
      },
      "outputs": [],
      "source": [
        "## Helper Functions\n",
        "\n",
        "from collections import OrderedDict\n",
        "\n",
        "def show_dimensions(t):\n",
        "    d = OrderedDict()\n",
        "    for dim_name, size in zip(t.names, t.shape):\n",
        "        d[dim_name] = size\n",
        "    return d"
      ]
    },
    {
      "cell_type": "markdown",
      "metadata": {
        "id": "X1XnmQLgDeHy"
      },
      "source": [
        "#  Tensor Traps\n",
        "\n",
        "\n",
        "This post is about the tensor class, a multi-dimensional array object that is the central object of deep learning frameworks such as Torch, TensorFlow and Chainer, as well as numpy. Tensors carry around a blob of storage and expose a tuple of dimension information to users."
      ]
    },
    {
      "cell_type": "code",
      "execution_count": 54,
      "metadata": {
        "colab": {
          "base_uri": "https://localhost:8080/"
        },
        "id": "9LZarsn5HgUa",
        "outputId": "0c14ba33-9c7d-4f67-96d7-d847ef085269"
      },
      "outputs": [
        {
          "output_type": "execute_result",
          "data": {
            "text/plain": [
              "torch.Size([6, 96, 96, 3])"
            ]
          },
          "metadata": {},
          "execution_count": 54
        }
      ],
      "source": [
        "ims = torch.tensor(numpy.load('test_images.npy'))\n",
        "ims.shape"
      ]
    },
    {
      "cell_type": "markdown",
      "metadata": {
        "id": "_A4CksffJ5sT"
      },
      "source": [
        "Here there are 4 dimensions, corresponding to *batch_size*, *height*, *width*, and *channels*. Most of the time you can figure this out by some comment in the code that looks like this:  "
      ]
    },
    {
      "cell_type": "code",
      "execution_count": 55,
      "metadata": {
        "colab": {
          "base_uri": "https://localhost:8080/",
          "height": 113
        },
        "id": "euWWfx_yKh85",
        "outputId": "1fa60228-e279-4ce0-a134-9ec521707f1d"
      },
      "outputs": [
        {
          "output_type": "execute_result",
          "data": {
            "text/plain": [
              ""
            ],
            "image/png": "[encoded data removed]"
          },
          "metadata": {},
          "execution_count": 55
        }
      ],
      "source": [
        "# batch_size x height x width x channels\n",
        "ims[0]"
      ]
    },
    {
      "cell_type": "markdown",
      "metadata": {
        "id": "oec2Ah5eRgEp"
      },
      "source": [
        "This approch is concise and pseudo-mathy. However from a programming point of view it is not a great way to build complex software."
      ]
    },
    {
      "cell_type": "markdown",
      "metadata": {
        "id": "ampMvKRpHYvv"
      },
      "source": [
        "\n",
        "## Trap 1: Privacy by Convention\n"
      ]
    },
    {
      "cell_type": "markdown",
      "metadata": {
        "id": "tFP--oUNnb8V"
      },
      "source": [
        "\n",
        "\n",
        "Code that manipulates tensors does so by dimension identifiers in the tuple. If you want to rotate the image you read the comment, decide what dimensions need to be changed and alter them. "
      ]
    },
    {
      "cell_type": "code",
      "execution_count": 56,
      "metadata": {
        "colab": {
          "base_uri": "https://localhost:8080/",
          "height": 113
        },
        "id": "JuYMwAFtLBcl",
        "outputId": "d5154011-dda5-4d32-e7c9-82befe0fba3b"
      },
      "outputs": [
        {
          "output_type": "execute_result",
          "data": {
            "text/plain": [
              ""
            ],
            "image/png": "[encoded data removed]"
          },
          "metadata": {},
          "execution_count": 56
        }
      ],
      "source": [
        "def rotate(ims):\n",
        "    # batch_size x height x width x channels\n",
        "    rotated = ims.transpose(1, 2)\n",
        "    \n",
        "    # batch_size x width x height x channels\n",
        "    return rotated\n",
        "rotate(ims)[0]"
      ]
    },
    {
      "cell_type": "markdown",
      "metadata": {
        "id": "gjjCOsyBLvtV"
      },
      "source": [
        "This code is simple and in theory well documented. However, it does not reflect the semantics of the target function. The property of rotation is independent of the batch, or for that matter, the channels. The function should not have to account for these dimensions in determining the dimensions to alter. \n",
        "\n",
        "This leads to two problems. FIrst, it's quite worrisome that if we pass in a singleton image this function runs fine but fails to work. "
      ]
    },
    {
      "cell_type": "code",
      "execution_count": 57,
      "metadata": {
        "colab": {
          "base_uri": "https://localhost:8080/"
        },
        "id": "bnh57z49L9Lu",
        "outputId": "85790dec-30fd-44a8-b3d3-1fde873304df"
      },
      "outputs": [
        {
          "output_type": "execute_result",
          "data": {
            "text/plain": [
              "torch.Size([96, 3, 96])"
            ]
          },
          "metadata": {},
          "execution_count": 57
        }
      ],
      "source": [
        "rotate(ims[0]).shape"
      ]
    },
    {
      "cell_type": "markdown",
      "metadata": {
        "id": "tqw1mFdDk2Fi"
      },
      "source": [
        "However, even more worrisome is that the function may actually use the batch dimensions by mistake and mix together properties of different images. This can lead to nasty bugs that would be easy to avoid if this dimension was hidden from the code. "
      ]
    },
    {
      "cell_type": "markdown",
      "metadata": {
        "id": "1DV0yQ09L7AR"
      },
      "source": [
        "## Trap 2: Broadcasting by Alignment\n"
      ]
    },
    {
      "cell_type": "markdown",
      "metadata": {
        "id": "p9LuwkU9naX_"
      },
      "source": [
        "\n",
        "The most useful aspect of Tensors is that they can quickly do array operations without directly requiring for loops. For this to work dimensions need to be directly aligned so that they can be broadcasts. Again this is done by convention and code documentation that makes it \"easy\" to line up dimensions. For instance, let's assume we want to apply a mask to the above image. \n"
      ]
    },
    {
      "cell_type": "code",
      "execution_count": 58,
      "metadata": {
        "colab": {
          "base_uri": "https://localhost:8080/",
          "height": 113
        },
        "id": "Sp0TsC0yOBxr",
        "outputId": "a9244d17-b44b-479f-898c-0c0907ece737"
      },
      "outputs": [
        {
          "output_type": "execute_result",
          "data": {
            "text/plain": [
              ""
            ],
            "image/png": "[encoded data removed]"
          },
          "metadata": {},
          "execution_count": 58
        }
      ],
      "source": [
        "# height x width\n",
        "mask = torch.randint(0, 2, [96, 96]).byte()\n",
        "mask"
      ]
    },
    {
      "cell_type": "code",
      "execution_count": 59,
      "metadata": {
        "colab": {
          "base_uri": "https://localhost:8080/",
          "height": 35
        },
        "id": "cO9IWw46O33Z",
        "outputId": "e5e69c0f-6a8d-4c6c-e1fe-1cecd4f4fdcd"
      },
      "outputs": [
        {
          "output_type": "execute_result",
          "data": {
            "text/plain": [
              "'Broadcasting fail torch.Size([96, 96]) torch.Size([6, 96, 96, 3])'"
            ],
            "application/vnd.google.colaboratory.intrinsic+json": {
              "type": "string"
            }
          },
          "metadata": {},
          "execution_count": 59
        }
      ],
      "source": [
        "try:\n",
        "    ims.masked_fill(mask, 0)\n",
        "except RuntimeError:\n",
        "    error = \"Broadcasting fail %s %s\"%(mask.shape, ims.shape)\n",
        "error"
      ]
    },
    {
      "cell_type": "markdown",
      "metadata": {
        "id": "9BsD5FpGQMqv"
      },
      "source": [
        "This fails because even though we knew that we were building a *height* and *width* shaped mask, the rules of broadcasting do not have the correct semantics. To make this work, you are encouraged to use either `view` or `squeeze`, my least favorite functions.  "
      ]
    },
    {
      "cell_type": "code",
      "execution_count": 60,
      "metadata": {
        "colab": {
          "base_uri": "https://localhost:8080/",
          "height": 113
        },
        "id": "AYso46ojPfuQ",
        "outputId": "127b661a-5028-4536-a7cb-0230d5146001"
      },
      "outputs": [
        {
          "output_type": "execute_result",
          "data": {
            "text/plain": [
              ""
            ],
            "image/png": "[encoded data removed]"
          },
          "metadata": {},
          "execution_count": 60
        }
      ],
      "source": [
        "# either \n",
        "mask = mask.unsqueeze(-1)\n",
        "# or \n",
        "mask = mask.view(96, 96, 1)\n",
        "\n",
        "# height x width x channels\n",
        "ims.masked_fill(mask, 1)[0]"
      ]
    },
    {
      "cell_type": "markdown",
      "metadata": {
        "id": "Whz5pqd_SRXH"
      },
      "source": [
        "Note we do not need to do this for the left-most dimensions so there is a bit of abstraction here.  However reading through real code, dozens of right side `view`s and `squeeze`s become completely unreadable."
      ]
    },
    {
      "cell_type": "markdown",
      "metadata": {
        "id": "5UyG7El7Snbi"
      },
      "source": [
        "## Trap 3: Access by Comments\n"
      ]
    },
    {
      "cell_type": "markdown",
      "metadata": {
        "id": "9LWcPiviTwWc"
      },
      "source": [
        "It is possible that you look at the top two issues and think that as long as you are careful, these issues will be caught by run time errors. \n",
        "However, even well used combinations of broadcasting and indexing can lead to problems that are very tough to catch.  "
      ]
    },
    {
      "cell_type": "code",
      "execution_count": 61,
      "metadata": {
        "colab": {
          "base_uri": "https://localhost:8080/",
          "height": 113
        },
        "id": "HfkPrgC1TPWh",
        "outputId": "f041d649-e60d-4fee-be10-a5f917adb167"
      },
      "outputs": [
        {
          "output_type": "execute_result",
          "data": {
            "text/plain": [
              ""
            ],
            "image/png": "[encoded data removed]"
          },
          "metadata": {},
          "execution_count": 61
        }
      ],
      "source": [
        "a = ims[1].mean(2, keepdim=True)\n",
        "# height x width x 1\n",
        "\n",
        "# (Lots of code in between)\n",
        "#  .......................\n",
        "\n",
        "# Code comment explaining what should be happening.\n",
        "dim = 1\n",
        "b = a + ims.mean(dim, keepdim=True)[0]\n",
        "\n",
        "\n",
        "# (Or maybe should be a 1? or a 0?) All these values will give different results without throwing run time errors.\n",
        "dim = 2\n",
        "b = a + ims.mean(dim, keepdim=True)[0]\n",
        "b"
      ]
    },
    {
      "cell_type": "markdown",
      "metadata": {
        "id": "P4WyEXyYVFGp"
      },
      "source": [
        "Here we assume that the coder is trying to combine two tensor using both reduction operations and dimension indexing. (Honestly at this point I have forgotten what  the dimensions stand for). \n",
        "\n",
        "The main point though is that this code will run fine for whatever value dim is given. The comment here might descibe what is happening but the code itself doesn't throw a run time error. "
      ]
    },
    {
      "cell_type": "markdown",
      "metadata": {
        "id": "b9gDFB-WV9_h"
      },
      "source": [
        "# Named Tensor: A Prototype"
      ]
    },
    {
      "cell_type": "markdown",
      "metadata": {
        "id": "khfYKuBcWPMz"
      },
      "source": [
        "Based on these issues, I think deep learning code should move to a better central object. There are several of these proposed. Here for fun, I will develop a new prototype. I have the following goals. \n",
        "\n",
        "*1) Dimensions should have human-readable names.*\n",
        "\n",
        "*2) No function should have a dim argument.*\n",
        "\n",
        "*3) Broadcast should be by name matching.*\n",
        "\n",
        "*4) Transposition should be explicit.*\n",
        "\n",
        "*5) Ban dimension based indexing.*\n",
        "\n",
        "*6) Private dimensions should be protected.*\n",
        "\n"
      ]
    },
    {
      "cell_type": "markdown",
      "metadata": {
        "id": "cmFZCfgZYm3i"
      },
      "source": [
        "\n",
        "\n",
        "To experiment with these ideas I have built a library known as `NamedTensor`. Currently it is PyTorch specific, but in theory a similar idea could be used in other frameworks. The code is available at [github.com/harvardnlp/namedtensor](https://github.com/harvardnlp/namedtensor). "
      ]
    },
    {
      "cell_type": "markdown",
      "metadata": {
        "id": "SYth2yPxZobO"
      },
      "source": [
        "## Proposal 1: Assigning Names"
      ]
    },
    {
      "cell_type": "markdown",
      "metadata": {
        "id": "0177b_0vZ303"
      },
      "source": [
        "The core of the library is an object that wraps a tensor and provides names for each dimension. Here we simply wrap a given torch tensor with dimension names."
      ]
    },
    {
      "cell_type": "code",
      "execution_count": 62,
      "metadata": {
        "colab": {
          "base_uri": "https://localhost:8080/"
        },
        "id": "sLnQA8VOZsEx",
        "outputId": "a91230f6-8bbe-4917-c2ab-e34fa2e3d3d1"
      },
      "outputs": [
        {
          "output_type": "execute_result",
          "data": {
            "text/plain": [
              "OrderedDict([('batch', 6), ('height', 96), ('width', 96), ('channels', 3)])"
            ]
          },
          "metadata": {},
          "execution_count": 62
        }
      ],
      "source": [
        "''' \n",
        "Legacy Code:\n",
        "\n",
        "named_ims = NamedTensor(ims, (\"batch\", \"height\", \"width\", \"channels\"))\n",
        "named_ims.shape\n",
        "'''\n",
        "\n",
        "named_ims = torch.tensor(ims, names=(\"batch\", \"height\", \"width\", \"channels\"))\n",
        "show_dimensions(named_ims)"
      ]
    },
    {
      "cell_type": "markdown",
      "metadata": {
        "id": "eLjL4O7_ZiyW"
      },
      "source": [
        "Alternatively the library has wrappers for the pytorch constructors to turn them into named tensors. "
      ]
    },
    {
      "cell_type": "code",
      "execution_count": 63,
      "metadata": {
        "colab": {
          "base_uri": "https://localhost:8080/",
          "height": 113
        },
        "id": "eiYe47t6aRnd",
        "outputId": "7a4aec1a-c164-4804-f843-7b9dd7a2b889"
      },
      "outputs": [
        {
          "output_type": "execute_result",
          "data": {
            "text/plain": [
              ""
            ],
            "image/png": "[encoded data removed]"
          },
          "metadata": {},
          "execution_count": 63
        }
      ],
      "source": [
        "'''\n",
        "Legacy Code:\n",
        "\n",
        "ex = ntorch.randn((96, 96, 3), names=(\"height\", \"width\", \"channels\"))\n",
        "'''\n",
        "\n",
        "ex = torch.randn((96, 96, 3), names=(\"height\", \"width\", \"channels\"))\n",
        "ex"
      ]
    },
    {
      "cell_type": "markdown",
      "metadata": {
        "id": "lNgHsAmDbxMc"
      },
      "source": [
        "Most simple operations simply keep around the named tensor properties. "
      ]
    },
    {
      "cell_type": "code",
      "execution_count": 64,
      "metadata": {
        "id": "T-wGpWZAb4AL"
      },
      "outputs": [],
      "source": [
        "ex.log()\n",
        "\n",
        "# or \n",
        "\n",
        "ntorch.log(ex)\n",
        "\n",
        "None"
      ]
    },
    {
      "cell_type": "markdown",
      "metadata": {
        "id": "GfVktrThcIF2"
      },
      "source": [
        "## Proposal 2: Accessors and Reduction"
      ]
    },
    {
      "cell_type": "markdown",
      "metadata": {
        "id": "iNCJcWeccTZW"
      },
      "source": [
        "The first benefit of names comes from the ability to replace the need for dim and axis style arguments entirely. For example, lets say we wanted to sort each column. "
      ]
    },
    {
      "cell_type": "code",
      "execution_count": 65,
      "metadata": {
        "colab": {
          "base_uri": "https://localhost:8080/",
          "height": 113
        },
        "id": "-HdhRVfqcyd2",
        "outputId": "deeb5a7e-cd66-4944-f8e2-5787cc22d40e"
      },
      "outputs": [
        {
          "output_type": "execute_result",
          "data": {
            "text/plain": [
              ""
            ],
            "image/png": "[encoded data removed]"
          },
          "metadata": {},
          "execution_count": 65
        }
      ],
      "source": [
        "'''\n",
        "Legacy Code:\n",
        "\n",
        "sortex, _ = ex.sort(\"width\")\n",
        "'''\n",
        "\n",
        "# PyTorch Named Tensors don't support sorting. For now, workarounds like this are required.\n",
        "\n",
        "def named_sort(named_tensor, named_dimension):\n",
        "    all_dim_names = named_tensor.names\n",
        "    idx = all_dim_names.index(named_dimension)\n",
        "\n",
        "    unnamed_tensor = named_tensor.rename(None)\n",
        "    values, indices = unnamed_tensor.sort(idx)\n",
        "    named_values, named_indices = (torch.tensor(values, names=all_dim_names), torch.tensor(indices, names=all_dim_names))\n",
        "    \n",
        "    return (named_values, named_indices)\n",
        "\n",
        "sortex, _ = named_sort(ex, \"width\")\n",
        "sortex"
      ]
    },
    {
      "cell_type": "markdown",
      "metadata": {
        "id": "JRljeAlweL7X"
      },
      "source": [
        "Another common operation is a *reduction*  where one or more dimensions is pooled out.   "
      ]
    },
    {
      "cell_type": "code",
      "execution_count": 66,
      "metadata": {
        "colab": {
          "base_uri": "https://localhost:8080/",
          "height": 113
        },
        "id": "6Rji52BmemX9",
        "outputId": "20d56723-63b9-4cf0-a116-556955dbcd5e"
      },
      "outputs": [
        {
          "output_type": "execute_result",
          "data": {
            "text/plain": [
              ""
            ],
            "image/png": "[encoded data removed]"
          },
          "metadata": {},
          "execution_count": 66
        }
      ],
      "source": [
        "named_ims.mean(\"batch\")"
      ]
    },
    {
      "cell_type": "code",
      "execution_count": 67,
      "metadata": {
        "colab": {
          "base_uri": "https://localhost:8080/",
          "height": 113
        },
        "id": "5Ky7Q3Kge8Mh",
        "outputId": "3bffe421-b6eb-41b9-bca8-1c44df8253f3"
      },
      "outputs": [
        {
          "output_type": "execute_result",
          "data": {
            "text/plain": [
              ""
            ],
            "image/png": "[encoded data removed]"
          },
          "metadata": {},
          "execution_count": 67
        }
      ],
      "source": [
        "named_ims.mean((\"batch\", \"channels\"))"
      ]
    },
    {
      "cell_type": "markdown",
      "metadata": {
        "id": "m88W0sfufEq1"
      },
      "source": [
        "## Proposal 3: Broadcasting and Contraction\n",
        "\n",
        "The names that are provided also provide the basis for broadcasting operations. When there is a binary operation between two named tensors they first ensure that all dimensions are matched in name and then apply standard broadcasting. To demonstrate let's return to the masking example above. Here we simply declare the names of the dimensions of our mask, and ask the library to figure out the broadcasting. \n",
        "\n",
        "> This is *not* how broadcasting is currently implemented in PyTorch Named Tensors (details [here](https://pytorch.org/docs/stable/named_tensor.html#explicit-alignment-by-names)). Broadcasting ignores dimension names and aligns by dimension order, as usual.\n",
        "> However, the Named Tensor API offers helper functions `Tensor.align_to()` and `Tensor.align_as()` to align dimensions by name before an operation."
      ]
    },
    {
      "cell_type": "code",
      "execution_count": 68,
      "metadata": {
        "colab": {
          "base_uri": "https://localhost:8080/",
          "height": 113
        },
        "id": "ffjF33e4fhLs",
        "outputId": "4cd6e356-1473-40c5-a6f2-469f0faceb38"
      },
      "outputs": [
        {
          "output_type": "execute_result",
          "data": {
            "text/plain": [
              ""
            ],
            "image/png": "[encoded data removed]"
          },
          "metadata": {},
          "execution_count": 68
        }
      ],
      "source": [
        "'''\n",
        "Legacy Code:\n",
        "\n",
        "im = NamedTensor(ims[0], (\"height\", \"width\", \"channels\"))\n",
        "im2 = NamedTensor(ims[1], (\"height\", \"width\", \"channels\"))\n",
        "\n",
        "mask = NamedTensor(torch.randint(0, 2, [96, 96]).byte(), (\"height\", \"width\"))\n",
        "im.masked_fill(mask, 1)\n",
        "'''\n",
        "\n",
        "im = torch.tensor(ims[0], names = (\"height\", \"width\", \"channels\"))\n",
        "im2 = torch.tensor(ims[1], names = (\"height\", \"width\", \"channels\"))\n",
        "\n",
        "mask = torch.tensor(torch.randint(0, 2, [96, 96]).byte(), names = (\"height\", \"width\"))\n",
        "\n",
        "im.masked_fill(mask.align_as(im), 1)"
      ]
    },
    {
      "cell_type": "markdown",
      "metadata": {
        "id": "SB93TbaxhBpS"
      },
      "source": [
        "Similar operations can be used for standard matrix operations such as addition and multiplication."
      ]
    },
    {
      "cell_type": "code",
      "execution_count": 69,
      "metadata": {
        "colab": {
          "base_uri": "https://localhost:8080/",
          "height": 113
        },
        "id": "tnnPgP5xjlwa",
        "outputId": "c63b0572-d9c0-49a8-da51-2178443268c2"
      },
      "outputs": [
        {
          "output_type": "execute_result",
          "data": {
            "text/plain": [
              ""
            ],
            "image/png": "[encoded data removed]"
          },
          "metadata": {},
          "execution_count": 69
        }
      ],
      "source": [
        "im * mask.align_as(im).double()"
      ]
    },
    {
      "cell_type": "markdown",
      "metadata": {
        "id": "Woje-ckrj4Bm"
      },
      "source": [
        "A more general feature is the `dot` method for tensor contraction between named tensors. Tensor contraction, the machinery behind `einsum`, is an elegant way of thinking about generalizations of dot-products, matrix-vector products, matrix-matrix products, etc."
      ]
    },
    {
      "cell_type": "code",
      "execution_count": 70,
      "metadata": {
        "colab": {
          "base_uri": "https://localhost:8080/"
        },
        "id": "t0H4P6NnkK4t",
        "outputId": "3c9993a5-f38b-4a59-ac33-4a2243a86584"
      },
      "outputs": [
        {
          "output_type": "execute_result",
          "data": {
            "text/plain": [
              "OrderedDict([('width', 96), ('channels', 3)])"
            ]
          },
          "metadata": {},
          "execution_count": 70
        }
      ],
      "source": [
        "'''\n",
        "Legacy Code:\n",
        "\n",
        "# Runs torch.einsum(ijk,ijk->jk, tensor1, tensor2)\n",
        "im.dot(\"height\", im2).shape\n",
        "'''\n",
        "\n",
        "# Another workaround...\n",
        "def named_einsum(dims_to_contract, t1, t2):\n",
        "    if isinstance(dims_to_contract, str): dims_to_contract = [dims_to_contract]\n",
        "\n",
        "    # The case where the tensors have non-identical dimension names is hard. Ignore it for now.\n",
        "    assert t1.names == t2.names\n",
        "\n",
        "    dim_names = t1.names\n",
        "    contracted_dim_names = [x for x in dim_names if x not in dims_to_contract]\n",
        "    idx = [dim_names.index(dim) for dim in dims_to_contract]\n",
        "\n",
        "    dimstring = ''.join([chr(x) for x in range(97, 97+len(dim_names))])\n",
        "    contracted_dimstring = ''.join([dim_char for i, dim_char in enumerate(dimstring) if i not in idx])\n",
        "\n",
        "    t1 = t1.rename(None)\n",
        "    t2 = t2.rename(None)\n",
        "\n",
        "    # Contract out the last dimensions\n",
        "    contracted = torch.einsum(f\"{dimstring}, {dimstring}->{contracted_dimstring}\", t1, t2)\n",
        "    return torch.tensor(contracted, names=contracted_dim_names)\n",
        "\n",
        "height_contracted = named_einsum(\"height\", im, im2)\n",
        "show_dimensions(height_contracted)"
      ]
    },
    {
      "cell_type": "code",
      "execution_count": 71,
      "metadata": {
        "colab": {
          "base_uri": "https://localhost:8080/"
        },
        "id": "C-RpMMgd1qT6",
        "outputId": "e47e2cb4-d24a-432d-bf4f-9727323ab278"
      },
      "outputs": [
        {
          "output_type": "execute_result",
          "data": {
            "text/plain": [
              "OrderedDict([('height', 96), ('channels', 3)])"
            ]
          },
          "metadata": {},
          "execution_count": 71
        }
      ],
      "source": [
        "# Runs torch.einsum(ijk,ijk->il, tensor1, tensor2)\n",
        "show_dimensions(named_einsum(\"width\", im, im2))"
      ]
    },
    {
      "cell_type": "code",
      "execution_count": 72,
      "metadata": {
        "colab": {
          "base_uri": "https://localhost:8080/"
        },
        "id": "5X7dclfr1rFp",
        "outputId": "cdbc85fe-94f5-4f4b-f306-c1b036750a9a"
      },
      "outputs": [
        {
          "output_type": "execute_result",
          "data": {
            "text/plain": [
              "OrderedDict([('channels', 3)])"
            ]
          },
          "metadata": {},
          "execution_count": 72
        }
      ],
      "source": [
        "# Runs torch.einsum(ijk,ijk->l, tensor1, tensor2)\n",
        "show_dimensions(named_einsum((\"height\", \"width\"), im, im2))"
      ]
    },
    {
      "cell_type": "markdown",
      "metadata": {
        "id": "2T3wTh88lb7h"
      },
      "source": [
        "Similar notation can be used for sparse indexing (inspired by the [einindex](https://pypi.org/project/einindex/) library). This is useful for embedding lookups and other sparse operations. "
      ]
    },
    {
      "cell_type": "code",
      "execution_count": 73,
      "metadata": {
        "colab": {
          "base_uri": "https://localhost:8080/",
          "height": 67
        },
        "id": "iKWmZyHYlsQV",
        "outputId": "6d5c304a-065e-4c8f-c49a-71f2b9109ed2"
      },
      "outputs": [
        {
          "output_type": "execute_result",
          "data": {
            "text/plain": [
              ""
            ],
            "image/png": "[encoded data removed]"
          },
          "metadata": {},
          "execution_count": 73
        }
      ],
      "source": [
        "'''\n",
        "Legacy Code:\n",
        "\n",
        "pick, _ = NamedTensor(torch.randint(0, 96, [50]).long(), (\"lookups\",)) \\\n",
        "             .sort(\"lookups\")\n",
        "\n",
        "# Select 50 random rows.\n",
        "im.index_select(\"height\", pick)\n",
        "'''\n",
        "\n",
        "# More workarounds...\n",
        "def named_index_select(named_dimension, named_tensor, indices):\n",
        "    all_dim_names = named_tensor.names\n",
        "    idx = all_dim_names.index(named_dimension)\n",
        "\n",
        "    unnamed_tensor = named_tensor.rename(None)\n",
        "    result = unnamed_tensor.index_select(idx, indices.rename(None))\n",
        "    return torch.tensor(result, names=all_dim_names)\n",
        "\n",
        "lookups = torch.tensor(torch.randint(0, 96, [50]), names=(\"lookups\",))\n",
        "pick, _ = named_sort(lookups, \"lookups\")\n",
        "\n",
        "# Select 50 random rows.\n",
        "named_index_select(\"height\", im, pick)"
      ]
    },
    {
      "cell_type": "markdown",
      "metadata": {
        "id": "AKTInxARmYgY"
      },
      "source": [
        "## Proposal 4: Shifting Dimensions "
      ]
    },
    {
      "cell_type": "markdown",
      "metadata": {
        "id": "S5GfSRZQnDq4"
      },
      "source": [
        "Behind the scenes all of the named tensors are acting as tensor objects. As such thing like order and stride of dimensions does matter. Operations like `transpose` and `view` are crucial for maintaining this, but are unfortunately quite error-prone. \n",
        "\n",
        "Instead consider a domain specific language `shift` that borrows heavily from the Alex Rogozhnikov's excellent [einops](https://github.com/arogozhnikov/einops) package.\n",
        " "
      ]
    },
    {
      "cell_type": "code",
      "execution_count": 74,
      "metadata": {
        "colab": {
          "base_uri": "https://localhost:8080/",
          "height": 113
        },
        "id": "KyBAO9_3qj41",
        "outputId": "9df2cb13-50d4-42db-d351-ce1acbe75058"
      },
      "outputs": [
        {
          "output_type": "execute_result",
          "data": {
            "text/plain": [
              ""
            ],
            "image/png": "[encoded data removed]"
          },
          "metadata": {},
          "execution_count": 74
        }
      ],
      "source": [
        "tensor = NamedTensor(ims[0], (\"h\", \"w\", \"c\"))\n",
        "tensor"
      ]
    },
    {
      "cell_type": "markdown",
      "metadata": {
        "id": "w2hdSaRKoHky"
      },
      "source": [
        "Standard calls to transpose dimensions."
      ]
    },
    {
      "cell_type": "code",
      "execution_count": 75,
      "metadata": {
        "colab": {
          "base_uri": "https://localhost:8080/",
          "height": 113
        },
        "id": "YJBHGKpLsX8a",
        "outputId": "52745e72-3f9f-460f-d783-d0be8cac8ccb"
      },
      "outputs": [
        {
          "output_type": "execute_result",
          "data": {
            "text/plain": [
              ""
            ],
            "image/png": "[encoded data removed]"
          },
          "metadata": {},
          "execution_count": 75
        }
      ],
      "source": [
        "tensor.transpose(\"w\", \"h\", \"c\")\n"
      ]
    },
    {
      "cell_type": "markdown",
      "metadata": {
        "id": "4C7y6HsOoGvz"
      },
      "source": [
        "Calls for splitting and stacking together dimensions."
      ]
    },
    {
      "cell_type": "code",
      "execution_count": 76,
      "metadata": {
        "colab": {
          "base_uri": "https://localhost:8080/"
        },
        "id": "p731PTUs2HXW",
        "outputId": "b14c1d53-363c-4ecf-af23-3d52862d8db0"
      },
      "outputs": [
        {
          "output_type": "execute_result",
          "data": {
            "text/plain": [
              "OrderedDict([('height', 8), ('q', 12), ('w', 96), ('c', 3)])"
            ]
          },
          "metadata": {},
          "execution_count": 76
        }
      ],
      "source": [
        "tensor = NamedTensor(ims[0], (\"h\", \"w\", \"c\"))\n",
        "tensor.split(\"h\", (\"height\", \"q\"), height=8).shape"
      ]
    },
    {
      "cell_type": "code",
      "execution_count": 77,
      "metadata": {
        "colab": {
          "base_uri": "https://localhost:8080/"
        },
        "id": "uD1iruomtanM",
        "outputId": "bb4d884d-1c72-46c4-972b-4109cab5ed56"
      },
      "outputs": [
        {
          "output_type": "execute_result",
          "data": {
            "text/plain": [
              "OrderedDict([('bh', 576), ('w', 96), ('c', 3)])"
            ]
          },
          "metadata": {},
          "execution_count": 77
        }
      ],
      "source": [
        "tensor = NamedTensor(ims, ('b', 'h', 'w', 'c'))\n",
        "tensor.stack(('b', 'h'), \"bh\").shape\n"
      ]
    },
    {
      "cell_type": "markdown",
      "metadata": {
        "id": "8h6ZCcrgoeEg"
      },
      "source": [
        "Ops can be chained."
      ]
    },
    {
      "cell_type": "code",
      "execution_count": 78,
      "metadata": {
        "colab": {
          "base_uri": "https://localhost:8080/",
          "height": 113
        },
        "id": "74kpc4j-t1Sb",
        "outputId": "f357ed95-4ce2-45ca-eabb-25eb9ef115c2"
      },
      "outputs": [
        {
          "output_type": "execute_result",
          "data": {
            "text/plain": [
              ""
            ],
            "image/png": "[encoded data removed]"
          },
          "metadata": {},
          "execution_count": 78
        }
      ],
      "source": [
        "tensor.stack(('b', 'w'), \"bw\").transpose('h', 'bw', 'c')"
      ]
    },
    {
      "cell_type": "markdown",
      "metadata": {
        "id": "ZKXtJ4gSonIZ"
      },
      "source": [
        "Just for fun, here are some of the crazier examples from *einops* in this notation."
      ]
    },
    {
      "cell_type": "code",
      "execution_count": 79,
      "metadata": {
        "colab": {
          "base_uri": "https://localhost:8080/",
          "height": 305
        },
        "id": "JnsFFFGPkxBs",
        "outputId": "7a30c82c-0315-41d4-9279-745a7ddb649b"
      },
      "outputs": [
        {
          "output_type": "execute_result",
          "data": {
            "text/plain": [
              ""
            ],
            "image/png": "[encoded data removed]"
          },
          "metadata": {},
          "execution_count": 79
        }
      ],
      "source": [
        "tensor.split(\"b\", ('b1', 'b2'), b1=2)\\\n",
        "      .stack(('b2', 'h'), \"a\")\\\n",
        "      .stack(('b1', 'w'), \"d\")\\\n",
        "      .transpose('a', 'd', 'c')"
      ]
    },
    {
      "cell_type": "code",
      "execution_count": 80,
      "metadata": {
        "colab": {
          "base_uri": "https://localhost:8080/",
          "height": 209
        },
        "id": "6XHpOv62kelh",
        "outputId": "5c8a1f10-b136-4d95-d842-ec1f944fb122"
      },
      "outputs": [
        {
          "output_type": "execute_result",
          "data": {
            "text/plain": [
              ""
            ],
            "image/png": "[encoded data removed]"
          },
          "metadata": {},
          "execution_count": 80
        }
      ],
      "source": [
        "tensor.split(\"w\", ('w1', 'w2'), w2=2)\\\n",
        "      .stack(('h', 'w2'), 'a')\\\n",
        "      .stack(('b', 'w1'), 'd')\\\n",
        "      .transpose('a', 'd', 'c')"
      ]
    },
    {
      "cell_type": "code",
      "execution_count": 81,
      "metadata": {
        "colab": {
          "base_uri": "https://localhost:8080/",
          "height": 113
        },
        "id": "9xusGrzNkVKW",
        "outputId": "d84af7fc-ff4b-4b2d-bcd4-e2b5baca1a9c"
      },
      "outputs": [
        {
          "output_type": "execute_result",
          "data": {
            "text/plain": [
              ""
            ],
            "image/png": "[encoded data removed]"
          },
          "metadata": {},
          "execution_count": 81
        }
      ],
      "source": [
        "tensor.stack(('b', 'w'), 'a').transpose('h', 'a', 'c')"
      ]
    },
    {
      "cell_type": "code",
      "execution_count": 82,
      "metadata": {
        "colab": {
          "base_uri": "https://localhost:8080/",
          "height": 113
        },
        "id": "nsR9xjHMCXv2",
        "outputId": "b8fbd96b-1305-4914-ad26-e1f0025dddd2"
      },
      "outputs": [
        {
          "output_type": "execute_result",
          "data": {
            "text/plain": [
              ""
            ],
            "image/png": "[encoded data removed]"
          },
          "metadata": {},
          "execution_count": 82
        }
      ],
      "source": [
        "tensor.stack(('w', 'b'), 'a').transpose('h', 'a', 'c')"
      ]
    },
    {
      "cell_type": "code",
      "execution_count": 83,
      "metadata": {
        "colab": {
          "base_uri": "https://localhost:8080/",
          "height": 113
        },
        "id": "OowFiE4jCkXH",
        "outputId": "9b4014d7-c550-4a03-feb5-c3801ac944f2"
      },
      "outputs": [
        {
          "output_type": "execute_result",
          "data": {
            "text/plain": [
              ""
            ],
            "image/png": "[encoded data removed]"
          },
          "metadata": {},
          "execution_count": 83
        }
      ],
      "source": [
        "tensor = NamedTensor(ims, ('b', 'h', 'w', 'c'))\n",
        "tensor.mean('b')"
      ]
    },
    {
      "cell_type": "code",
      "execution_count": 84,
      "metadata": {
        "colab": {
          "base_uri": "https://localhost:8080/",
          "height": 305
        },
        "id": "FYX0z4-aEsLh",
        "outputId": "2b225fb2-26bf-44e7-ce91-4618af50caea"
      },
      "outputs": [
        {
          "output_type": "execute_result",
          "data": {
            "text/plain": [
              ""
            ],
            "image/png": "[encoded data removed]"
          },
          "metadata": {},
          "execution_count": 84
        }
      ],
      "source": [
        "tensor = NamedTensor(ims, ('b', 'h', 'w', 'c'))\n",
        "tensor.split('h', ('h1', 'h2'), h2 =2).split('w', ('w1', 'w2'), w2=2) \\\n",
        "      .mean(('h2', 'w2')).stack(('b', 'w1'), \"bw\")"
      ]
    },
    {
      "cell_type": "code",
      "execution_count": 85,
      "metadata": {
        "colab": {
          "base_uri": "https://localhost:8080/",
          "height": 305
        },
        "id": "BssZDH91Kjdv",
        "outputId": "b613b0af-002c-4801-d43e-81c5388c5633"
      },
      "outputs": [
        {
          "output_type": "execute_result",
          "data": {
            "text/plain": [
              ""
            ],
            "image/png": "[encoded data removed]"
          },
          "metadata": {},
          "execution_count": 85
        }
      ],
      "source": [
        "tensor = NamedTensor(ims, ('b', 'h', 'w', 'c'))\n",
        "tensor.split('b', ('b1', 'b2'), b1 = 2)\\\n",
        "      .mean('c')\\\n",
        "      .stack((\"b1\", \"w\"), 'bw')\\\n",
        "      .stack(('b2', 'h'), 'bh')\\\n",
        "      .transpose('bh', 'bw')\n"
      ]
    },
    {
      "cell_type": "code",
      "execution_count": 86,
      "metadata": {
        "colab": {
          "base_uri": "https://localhost:8080/",
          "height": 209
        },
        "id": "tesLBQTbM2IO",
        "outputId": "5a352787-f651-4c07-cc07-790496f540e1"
      },
      "outputs": [
        {
          "output_type": "execute_result",
          "data": {
            "text/plain": [
              ""
            ],
            "image/png": "[encoded data removed]"
          },
          "metadata": {},
          "execution_count": 86
        }
      ],
      "source": [
        "tensor.split('b', ('b1', 'b2'), b1=2).stack(('h', 'b1'), 'h').stack(('w', 'b2'), 'w')"
      ]
    },
    {
      "cell_type": "markdown",
      "metadata": {
        "id": "RONa1_CvpIJl"
      },
      "source": [
        "## Proposal 5: Ban Indexing"
      ]
    },
    {
      "cell_type": "markdown",
      "metadata": {
        "id": "95TGZJB5pXbW"
      },
      "source": [
        "\n",
        "Generally indexing is discouraged in this named tensor paradigm. Instead use functions like `index_select` above.\n",
        "\n",
        "There are some useful named alternative functions pulled over from torch. For example `unbind` pulls apart a dimension to a tuple.\n"
      ]
    },
    {
      "cell_type": "code",
      "execution_count": 87,
      "metadata": {
        "colab": {
          "base_uri": "https://localhost:8080/",
          "height": 113
        },
        "id": "3jMIuUxIpn74",
        "outputId": "32c2a1b7-c983-454e-9f18-1f34e9b445b8"
      },
      "outputs": [
        {
          "output_type": "execute_result",
          "data": {
            "text/plain": [
              ""
            ],
            "image/png": "[encoded data removed]"
          },
          "metadata": {},
          "execution_count": 87
        }
      ],
      "source": [
        "tensor = NamedTensor(ims, ('b', 'h', 'w', 'c'))\n",
        "\n",
        "# Returns a tuple\n",
        "images = tensor.unbind(\"b\")\n",
        "images[3]"
      ]
    },
    {
      "cell_type": "markdown",
      "metadata": {
        "id": "FZcHQ_BvqJ6X"
      },
      "source": [
        "The function `get` directly selects a slice of from a named dimension."
      ]
    },
    {
      "cell_type": "code",
      "execution_count": 88,
      "metadata": {
        "colab": {
          "base_uri": "https://localhost:8080/",
          "height": 113
        },
        "id": "qQCELxUgqB_v",
        "outputId": "273666a5-404e-407e-dd32-199db529a516"
      },
      "outputs": [
        {
          "output_type": "execute_result",
          "data": {
            "text/plain": [
              ""
            ],
            "image/png": "[encoded data removed]"
          },
          "metadata": {},
          "execution_count": 88
        }
      ],
      "source": [
        "# Returns a tuple\n",
        "images = tensor.get(\"b\", 0).unbind(\"c\")\n",
        "images[1]"
      ]
    },
    {
      "cell_type": "markdown",
      "metadata": {
        "id": "JeYS9if9qwjI"
      },
      "source": [
        "## Proposal 6: Private Dimensions"
      ]
    },
    {
      "cell_type": "markdown",
      "metadata": {
        "id": "zYF2PvGthqWR"
      },
      "source": [
        "Finally named tensor attempts to let you directly hide dimensions that should not be accessed by internal functions. The function `mask_to` will keep around a left side mask that protects any earlier dimensions from manipulations by functions. The simplest example uses a mask to drop the `batch` dimension. "
      ]
    },
    {
      "cell_type": "code",
      "execution_count": 89,
      "metadata": {
        "colab": {
          "base_uri": "https://localhost:8080/",
          "height": 35
        },
        "id": "Ror8wojh1ba-",
        "outputId": "95351f3b-b5b4-4819-8f4a-ace0cdff99bc"
      },
      "outputs": [
        {
          "output_type": "execute_result",
          "data": {
            "text/plain": [
              "'Error received: Dimension batch is masked'"
            ],
            "application/vnd.google.colaboratory.intrinsic+json": {
              "type": "string"
            }
          },
          "metadata": {},
          "execution_count": 89
        }
      ],
      "source": [
        "def bad_function(x, y):\n",
        "    # Accesses the private batch dimension\n",
        "    return x.mean(\"batch\")\n",
        "\n",
        "x = ntorch.randn((10, 100, 100), names=(\"batch\", \"height\", \"width\"))\n",
        "y = ntorch.randn((10, 100, 100), names=(\"batch\", \"height\", \"width\"))\n",
        "\n",
        "try:\n",
        "    bad_function(x.mask_to(\"batch\"), y)\n",
        "except RuntimeError as e:\n",
        "    error = \"Error received: \" + str(e)\n",
        "error"
      ]
    },
    {
      "cell_type": "markdown",
      "metadata": {
        "id": "hpwkRrV0q8JL"
      },
      "source": [
        "This is weak dynamic check and can be turned off by internal functions. In future versions, perhaps we can add function annotations to lift non-named functions to respect these properties. "
      ]
    },
    {
      "cell_type": "markdown",
      "metadata": {
        "id": "QcTNI7Iuh8AT"
      },
      "source": [
        "# Example: Neural Attention"
      ]
    },
    {
      "cell_type": "markdown",
      "metadata": {
        "id": "uUG43UwVrZbc"
      },
      "source": [
        "To demonstrate why these choices lead to better encapsulation properties, let's consider a real-world deep learning example. \n",
        "\n",
        "This example was proposed by my colleague Tim Rocktashel in the blog post describing einsum (https://rockt.github.io/2018/04/30/einsum). Tim's code was proposed as a better alternative to raw PyTorch. While I agree that einsum is a step forward, it still falls into many of the traps described above. \n",
        "\n",
        "\n"
      ]
    },
    {
      "cell_type": "markdown",
      "metadata": {
        "id": "Gs3HJEErsTvs"
      },
      "source": [
        "Consider the problem of neural attention, which requires computing,\n",
        "\n",
        "$$\n",
        "\\begin{align*}\n",
        "\\mathbf{M}_t &= \\tanh(\\mathbf{W}^y\\mathbf{Y}+(\\mathbf{W}^h\\mathbf{h}_t+\\mathbf{W}^r\\mathbf{r}_{t-1})\\otimes \\mathbf{e}_L) & \\mathbf{M}_t &\\in\\mathbb{R}^{k\\times L}\\\\\n",
        "\\alpha_t &= \\text{softmax}(\\mathbf{w}^T\\mathbf{M}_t)&\\alpha_t&\\in\\mathbb{R}^L\\\\\n",
        "\\mathbf{r}_t &= \\mathbf{Y}\\alpha^T_t + \\tanh(\\mathbf{W}^t\\mathbf{r}_{t-1})&\\mathbf{r}_t&\\in\\mathbb{R}^k\n",
        "\\end{align*}\n",
        "$$"
      ]
    },
    {
      "cell_type": "markdown",
      "metadata": {
        "id": "CGvKocKguAdu"
      },
      "source": [
        "First we setup the parameters. "
      ]
    },
    {
      "cell_type": "code",
      "execution_count": 90,
      "metadata": {
        "id": "PP3eiilYtUu9"
      },
      "outputs": [],
      "source": [
        "def random_ntensors(names, num=1, requires_grad=False):\n",
        "    tensors = [ntorch.randn(tuple(names.values()), names=tuple(names.keys()), requires_grad=requires_grad)\n",
        "               for i in range(0, num)]\n",
        "    return tensors[0] if num == 1 else tensors\n",
        "\n",
        "class Param:\n",
        "    def __init__(self, in_hid, out_hid):\n",
        "        torch.manual_seed(0)\n",
        "        self.WY, self.Wh, self.Wr, self.Wt = \\\n",
        "            random_ntensors(dict(inhid=in_hid, outhid=out_hid),\n",
        "                            num=4, requires_grad=True)\n",
        "        self.bM, self.br, self.w = \\\n",
        "            random_ntensors(dict(outhid=out_hid), \n",
        "                            num=3,\n",
        "                            requires_grad=True)\n",
        "        "
      ]
    },
    {
      "cell_type": "markdown",
      "metadata": {
        "id": "iERFd2mquEc2"
      },
      "source": [
        "Now consider the tensor-based einsum implementation of this function. "
      ]
    },
    {
      "cell_type": "code",
      "execution_count": 91,
      "metadata": {
        "id": "oD5eGKI_sZTJ"
      },
      "outputs": [],
      "source": [
        "# Einsum Implementation\n",
        "import torch.nn.functional as F\n",
        "def einsum_attn(params, Y, ht, rt1):\n",
        "    # -- [batch_size x hidden_dimension]\n",
        "    tmp = torch.einsum(\"ik,kl->il\", [ht, params.Wh.values]) + \\\n",
        "          torch.einsum(\"ik,kl->il\", [rt1, params.Wr.values])\n",
        "\n",
        "    Mt = torch.tanh(torch.einsum(\"ijk,kl->ijl\", [Y, params.WY.values]) + \\\n",
        "                tmp.unsqueeze(1).expand_as(Y) + params.bM.values)\n",
        "    # -- [batch_size x sequence_length]\n",
        "    at = F.softmax(torch.einsum(\"ijk,k->ij\", [Mt, params.w.values]), dim=-1)\n",
        "\n",
        "    # -- [batch_size x hidden_dimension]\n",
        "    rt = torch.einsum(\"ijk,ij->ik\", [Y, at]) + \\\n",
        "         torch.tanh(torch.einsum(\"ij,jk->ik\", [rt1, params.Wt.values]) + \n",
        "                    params.br.values)\n",
        "\n",
        "    # -- [batch_size x hidden_dimension], [batch_size x sequence_dimension]\n",
        "    return rt, at"
      ]
    },
    {
      "cell_type": "markdown",
      "metadata": {
        "id": "FGbiXmf2uKN5"
      },
      "source": [
        "This implementation is an improvement over the naive PyTorch implementation. It removes many of the \n",
        "views and transposes that would be necessary to make this work. *However, it still uses `squeeze`, references the private batch dim, and usees comments that are not enforced.*"
      ]
    },
    {
      "cell_type": "markdown",
      "metadata": {
        "id": "TzmJKd1UuyQd"
      },
      "source": [
        "Consider instead the `namedtensor` version: "
      ]
    },
    {
      "cell_type": "code",
      "execution_count": 92,
      "metadata": {
        "id": "f5_BX7z7szLk"
      },
      "outputs": [],
      "source": [
        "def namedtensor_attn(params, Y, ht, rt1):\n",
        "    tmp = ht.dot(\"inhid\", params.Wh) + rt1.dot(\"inhid\", params.Wr)\n",
        "    at = ntorch.tanh(Y.dot(\"inhid\", params.WY) + tmp + params.bM) \\\n",
        "         .dot(\"outhid\", params.w) \\\n",
        "         .softmax(\"seqlen\")\n",
        "\n",
        "    rt = Y.dot(\"seqlen\", at) + \\\n",
        "         ntorch.tanh(rt1.dot(\"inhid\", params.Wt) + params.br)\n",
        "    return rt, at\n"
      ]
    },
    {
      "cell_type": "markdown",
      "metadata": {
        "id": "KvtY1nWAsWVm"
      },
      "source": [
        "This code avoids all three traps.\n",
        "\n",
        "(Trap 1) The code never mentions the `batch` dim.\n",
        "\n",
        "(Trap 2) All broadcasting is done directly with contractions, there are no views.\n",
        "\n",
        "(Trap 3) Operations across dims are explicit. For instance, the softmax is clearly over the seqlen. "
      ]
    },
    {
      "cell_type": "code",
      "execution_count": 93,
      "metadata": {
        "id": "BKolTWWlvkzO"
      },
      "outputs": [],
      "source": [
        "# Run Einsum\n",
        "in_hid = 7; out_hid = 7\n",
        "Y = torch.randn(3, 5, in_hid)\n",
        "ht, rt1 = torch.randn(3, in_hid), torch.randn(3, in_hid)\n",
        "params = Param(in_hid, out_hid)\n",
        "r, a = einsum_attn(params, Y, ht, rt1)"
      ]
    },
    {
      "cell_type": "code",
      "execution_count": 94,
      "metadata": {
        "id": "jmqZQbzg-x8_"
      },
      "outputs": [],
      "source": [
        "# Run Named Tensor (hiding batch)\n",
        "Y = NamedTensor(Y, names=(\"batch\", \"seqlen\", \"inhid\"), mask=1)\n",
        "ht = NamedTensor(ht, names=(\"batch\", \"inhid\"), mask=1)\n",
        "rt1 = NamedTensor(rt1, names=(\"batch\", \"inhid\"), mask=1)\n",
        "nr, na = namedtensor_attn(params, Y, ht, rt1)"
      ]
    },
    {
      "cell_type": "markdown",
      "metadata": {
        "id": "bHUQllYYw4Zc"
      },
      "source": [
        "# Conclusion / Request for Help"
      ]
    },
    {
      "cell_type": "markdown",
      "metadata": {
        "id": "vzmW3BZnxFGD"
      },
      "source": [
        "Tools for deep learning help researchers implement standard models, but they also impact what researchers try. Current models can be built fine with the tools we have, but the programming practices are not going to scale to new models. \n",
        "\n",
        "(For instance, one space we have been working on recently is discrete latent variable models which often have many problem specific variables each with their own variable dimension. This setting breaks the current tensor paradigm almost immediately. )\n",
        "\n",
        "This blog post is just a prototype of where this approach could go. If you are interested, I would love contributors to the build out this library properly. Some ideas if you want to send a PR to  [namedtensor](https://github.com/harvardnlp/NamedTensor). Some ideas:\n",
        "\n",
        "1) **Extending beyond PyTorch**: Can we generalize this approach in a way that supports NumPy and Tensorflow?  \n",
        "\n",
        "\n",
        "2) **Interacting with PyTorch Modules**: Can we \"lift\" PyTorch modules with type annotations, so that we know how they change inputs?\n",
        "\n",
        "\n",
        "3) **Error Checking**: Can we add annotations to functions giving pre- and post -conditions so that dimensions are automatically checked.\n",
        "\n"
      ]
    }
  ],
  "metadata": {
    "colab": {
      "collapsed_sections": [],
      "name": "NamedTensor.ipynb",
      "provenance": []
    },
    "kernelspec": {
      "display_name": "Python 3.9.7 ('raffellab')",
      "language": "python",
      "name": "python3"
    },
    "language_info": {
      "codemirror_mode": {
        "name": "ipython",
        "version": 3
      },
      "file_extension": ".py",
      "mimetype": "text/x-python",
      "name": "python",
      "nbconvert_exporter": "python",
      "pygments_lexer": "ipython3",
      "version": "3.9.7"
    },
    "vscode": {
      "interpreter": {
        "hash": "c17af479b4f924a1749320f1b412e40fcea5ba5f8714a0861f33494f35331f04"
      }
    }
  },
  "nbformat": 4,
  "nbformat_minor": 0
}